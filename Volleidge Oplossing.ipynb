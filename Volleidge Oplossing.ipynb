{
 "cells": [
  {
   "cell_type": "markdown",
   "id": "e7d46992",
   "metadata": {},
   "source": [
    "# Deel 1\n",
    "\n",
    "Santa wil zijn elfjes speelgoed laten maken, maar hij heeft zijn administratie nog niet op orde. Hij heeft een lijst van onderdelen die in elk soort speelgoed zitten. Het probleem is alleen dat sommige onderdelen weer uit verdere onderdelen bestaan, wat het tellen van het aantal onderdelen moeilijk maakt.\n",
    "\n",
    "Stel bijvoorbeeld dat hij deze lijst zou krijgen (de missende onderdelen kan je voor nu negeren): \n",
    "\n",
    "    46 onderdelen missen\n",
    "    Zoink: 9 Oink, 5 Dink\n",
    "    Floep: 2 Flap, 4 Dink\n",
    "    Flap: 4 Oink, 3 Dink\n",
    "    \n",
    "In dit voorbeeld zijn Zoinks makkelijk: er zitten in totaal 14 (9+5) onderdelen in. Een Floep is lastiger, omdat de Flappen die erin zitten elk ook uit meerdere onderdelen bestaan. Elke Flap bestaat uit 7 onderdelen. In een Floep zitten dus 18 (2*7+4) onderdelen. \n",
    "\n",
    " Gegeven de speelgoedlijst, vind het stuk speelgoed met het grootste aantal onderdelen. Dit aantal is vervolgens het antwoord op deel 1.\n",
    "\n",
    "Vul hieronder het aantal onderdelen in. "
   ]
  },
  {
   "cell_type": "code",
   "execution_count": 1,
   "id": "680b27f1",
   "metadata": {},
   "outputs": [],
   "source": [
    "file = 'speelgoedlijst.txt'\n",
    "# file = 'minilijst.txt' # Uncomment om te testen met een andere bestand \n",
    "\n",
    "# lees het tekstbestand \n",
    "with open(file,'r') as f:\n",
    "    line1 = f.readline()\n",
    "    lines = f.read().splitlines()\n",
    "\n",
    "# aantal ontbrekende onderdelen van de eerste regel \n",
    "total = int(line1.split()[0])\n",
    "\n",
    "# maakt een Python dictionary van de speelgoedlijst\n",
    "comps_dic = {}\n",
    "for line in lines:\n",
    "    key,tail = line.split(':')\n",
    "    comps_dic[key] = {}\n",
    "    for comp in tail.split(','):\n",
    "        amt,k = comp.split()\n",
    "        comps_dic[key][k] = int(amt)"
   ]
  },
  {
   "cell_type": "markdown",
   "id": "76c0d034",
   "metadata": {},
   "source": [
    "Met deze code hebben we de lijst geladen als een geneste \"Python-dictionary\". De \"minilijst\" levert op bijvoorbeeld het dictionary \n",
    "\n",
    "    {'Zoink': {'Oink': 9, 'Dink': 5},\n",
    "     'Floep': {'Flap': 2, 'Dink': 4},\n",
    "     'Flap': {'Oink': 4, 'Dink': 3}}\n",
    "\n",
    "Het aantal flappen in een floep (namelijk 2) kan worden verkregen via `comps_dic['Floep']['Flap']`.\n",
    "\n",
    "In het volgende deel lossen we het probleem op door dit dictionary te doorlopen. We maken twee niewe dictionary's: `count_dic`, dat het totale aantal stukken in elk item op de lijst geeft, en `top_dic`, dat zegt of elk item aan de \"top\" van de hiërarchie staat (of het item geen onderdeel is). `top_dic` wordt gebruikt voor het tweede deel van de puzzel. Voor elk item in de lijst gaat de functie `get_count()` door elk van zijn onderdelen en telt het totale bedrag. Als het opgegeven onderdeel niet op de hoofdlijst voorkomt, tellen we het aantal gewoon op bij het huidige aantal onderdelen. Anders telt de functie eerst het aantal onder-onderdelen in het onderdeel in een recursieve aanroep, en het bedrag dat moet worden toegevoegd aan het aantal onderdelen wordt vermenigvuldigd met het aantal onder-onderdelen. In dit tweede geval merkt de functie ook op dat het onderdeel niet bovenaan de hiërarchie staat.\n",
    "\n",
    "Om overbodig werk te voorkomen, stopt de functie als het item al is geteld (d.w.z. als de bijbehorende telling al niet nul is). "
   ]
  },
  {
   "cell_type": "code",
   "execution_count": 2,
   "id": "98ec76ea",
   "metadata": {},
   "outputs": [
    {
     "name": "stdout",
     "output_type": "stream",
     "text": [
      "grootste aantal onderdelen: 293867\n"
     ]
    }
   ],
   "source": [
    "counts_dic = {key:0 for key in comps_dic}\n",
    "top_dic = {key:True for key in comps_dic}\n",
    "\n",
    "def get_counts(key):\n",
    "    global comps_dic\n",
    "    global counts_dic\n",
    "    if not counts_dic[key]: #equivalent - if key2 in comps_dic != 0:\n",
    "        count = 0\n",
    "        for key2 in comps_dic[key]:\n",
    "            k_count = comps_dic[key][key2]\n",
    "            if key2 in comps_dic:\n",
    "                top_dic[key2] = False\n",
    "                get_counts(key2)\n",
    "                k_count *= counts_dic[key2]\n",
    "            count += k_count\n",
    "        counts_dic[key] = count\n",
    "\n",
    "for key in comps_dic:\n",
    "    get_counts(key)\n",
    "\n",
    "print('grootste aantal onderdelen:',max([counts_dic[k] for k in comps_dic]))"
   ]
  },
  {
   "cell_type": "markdown",
   "id": "8093102e",
   "metadata": {},
   "source": [
    "# Deel 2\n",
    "\n",
    "Terwijl je bezig was met het tellen van de onderdelen, waren een paar ijverige elfjes al begonnen! Ze hebben speelgoed in elkaar gezet en ingepakt, maar zijn alweer vergeten wat erin zat. Gek genoeg weten ze nog wel hoeveel onderdelen ze hebben gebruikt.\n",
    "\n",
    "De elfjes hebben alleen speelgoed ingepakt, en geen onderdelen zoals accu's of ijzer. Blijkbaar is er niemand stout geweest dit jaar.\n",
    "\n",
    "In het eerdere voorbeeld waren er 46 missende onderdelen. Stel dat er 3 cadeaus al ingepakt waren. Zoinks en Floepen zijn hier de mogelijke stukken speelgoed, want ze worden niet als onderdelen gebruikt. Er is maar 1 manier om met alle missende onderdelen onderdelen precies 3 stukken speelgoed te maken: 2 Zoinks en 1 Floep (14+14+18=46).\n",
    "\n",
    "Als je de stukken speelgoed weet, kan je je antwoord vinden door de eerste letters van het speelgoed op alfabetische volgorde te zetten. In het bovenstaande voorbeeld zou dat dus `FZZ` worden.\n",
    "\n",
    "Er zijn al 20 cadeaus ingepakt. Gegeven het aantal missende onderdelen in de speelgoedlijst, wat zijn dan de beginletters (op alfabetische volgorde)?"
   ]
  },
  {
   "cell_type": "code",
   "execution_count": 3,
   "id": "1a7a858b",
   "metadata": {},
   "outputs": [
    {
     "name": "stdout",
     "output_type": "stream",
     "text": [
      "[293867, 260702, 12649, 11082, 6457, 1614, 737, 359]\n",
      "{1614: 'L', 11082: 'H', 12649: 'E', 260702: 'Q', 737: 'P', 359: 'T', 293867: 'B', 6457: 'D'}\n"
     ]
    }
   ],
   "source": [
    "heads_dic = {counts_dic[key]:key[0] for key in filter(lambda x: top_dic[x], comps_dic)}\n",
    "counts = [counts_dic[key] for key in filter(lambda x: top_dic[x], comps_dic)]\n",
    "counts.sort(reverse = True)\n",
    "print(counts) # Lijst van de \"top\" artikelbedragen, in aflopende volgorde \n",
    "print(heads_dic) # Lijst met de eerste letters die bij elk bedrag horen "
   ]
  },
  {
   "cell_type": "markdown",
   "id": "1b5d697b",
   "metadata": {},
   "source": [
    "Nadat we het bedrag voor elk \"top\" item hebben gekregen, lossen we de puzzel op met behulp van de `get_wgts`-functie die hieronder is gedefinieerd. De functie begint met het nemen van zoveel mogelijk van het eerste item (het item met de meeste onderdelen) en zoekt in een recursieve aanroep naar een verzameling met de resterende items die het resterende aantal items (van de in totaal 20 vereist) en het resterende aantal onderdelen. Als er geen oplossing wordt gevonden, wordt het bedrag van het eerste item verlaagd en wordt het opnieuw geprobeerd.\n",
    "\n",
    "Door elke keer zoveel mogelijk van het item met de meeste stuks te nemen, zorgen we ervoor dat de collecties met het juiste aantal stuks worden verkregen in een volgorde waarin het aantal gebruikte items toeneemt."
   ]
  },
  {
   "cell_type": "code",
   "execution_count": 5,
   "id": "970d4d19",
   "metadata": {},
   "outputs": [
    {
     "name": "stdout",
     "output_type": "stream",
     "text": [
      "Oplossing:\n",
      "B 2; Q 3; E 3; H 3; D 2; L 1; P 3; T 3; \n",
      "Totaal aantal cadeaus: 20\n",
      "Oplossing string: BBDDEEEHHHLPPPQQQTTT\n"
     ]
    }
   ],
   "source": [
    "def get_wgts(arr,tot,wgtsum): \n",
    "    # gaat ervan uit dat de lijst in aflopende volgorde is gesorteerd \n",
    "    # retourneert: vlag voor of er een oplossing bestaat en een lijst met bedragen voor elk item\n",
    "    \n",
    "    if not arr:                            #equivalent - if arr == []:\n",
    "        return (tot==0 and wgtsum==0),[]\n",
    "    exists = False\n",
    "    for w in range(min(1+wgtsum,1+tot//arr[0]))[::-1]:\n",
    "        exists,sol = get_wgts(arr[1:],tot-w*arr[0],wgtsum-w)\n",
    "        if exists:\n",
    "            return True, [w] + sol\n",
    "    return False,[]\n",
    "\n",
    "flag,sol = get_wgts(counts,total,20)\n",
    "print('Oplossing:')\n",
    "for i in range(len(sol)):\n",
    "    print(heads_dic[counts[i]],sol[i],end = '; ')\n",
    "print()\n",
    "print('Totaal aantal cadeaus:',sum(sol))\n",
    "\n",
    "sol_arr = []\n",
    "for i in range(len(sol)):\n",
    "    sol_arr += [heads_dic[counts[i]]]*sol[i]\n",
    "sol_arr.sort()\n",
    "print('Oplossing string:',''.join(sol_arr))"
   ]
  }
 ],
 "metadata": {
  "kernelspec": {
   "display_name": "Python 3",
   "language": "python",
   "name": "python3"
  },
  "language_info": {
   "codemirror_mode": {
    "name": "ipython",
    "version": 3
   },
   "file_extension": ".py",
   "mimetype": "text/x-python",
   "name": "python",
   "nbconvert_exporter": "python",
   "pygments_lexer": "ipython3",
   "version": "3.8.8"
  }
 },
 "nbformat": 4,
 "nbformat_minor": 5
}
